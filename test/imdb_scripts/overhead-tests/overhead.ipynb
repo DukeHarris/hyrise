{
 "cells": [
  {
   "cell_type": "code",
   "execution_count": 1,
   "metadata": {
    "collapsed": true
   },
   "outputs": [],
   "source": [
    "import pandas as pd\n",
    "import matplotlib.pyplot as plt\n",
    "import matplotlib\n",
    "import numpy as np\n",
    "import os\n",
    "from collections import OrderedDict\n",
    "\n",
    "pd.options.display.mpl_style = 'default'\n",
    "\n",
    "\n",
    "%matplotlib inline\n",
    "\n",
    "matplotlib.rcParams.update({'font.family': \"serif\"})"
   ]
  },
  {
   "cell_type": "code",
   "execution_count": 18,
   "metadata": {
    "collapsed": false
   },
   "outputs": [
    {
     "name": "stdout",
     "output_type": "stream",
     "text": [
      "28.830382 29.713221\n",
      "108.430583 110.337983\n",
      "227.610302 229.123468\n",
      "539.086179 541.644172\n"
     ]
    },
    {
     "data": {
      "text/plain": [
       "<matplotlib.text.Text at 0x7f91a5d79630>"
      ]
     },
     "execution_count": 18,
     "metadata": {},
     "output_type": "execute_result"
    },
    {
     "data": {
      "image/png": "[encoded data removed]",
      "text/plain": [
       "<matplotlib.figure.Figure at 0x7f91a5d98be0>"
      ]
     },
     "metadata": {},
     "output_type": "display_data"
    }
   ],
   "source": [
    "columns = [1,5,10,25]\n",
    "\n",
    "index = pd.MultiIndex(levels=[[columns], [u'without tracking', u'with tracking']],\n",
    "           labels=[[0, 0, 1, 1, 2, 2, 3, 3],  [0, 1, 0, 1, 0, 1, 0, 1]],\n",
    "           names=[u'# Columns scanned', u'key type'])\n",
    "\n",
    "\n",
    "values = []\n",
    "\n",
    "for column in columns:\n",
    "\n",
    "    withoutTracking = pd.DataFrame()\n",
    "    withTracking = pd.DataFrame()\n",
    "\n",
    "\n",
    "    withoutTracking = withoutTracking.append(pd.read_csv(\"results-without-tracking2/%d_columns.csv\"%(column),header=False,names=[\"WithoutTracking\"]),True)\n",
    "    withTracking = withTracking.append(pd.read_csv(\"results-with-tracking/%d_columns.csv\"%(column),header=False,names=[\"WithTracking\"]),True)\n",
    "\n",
    "\n",
    "    values.extend([withoutTracking.median()[0], withTracking.median()[0]])\n",
    "    print(withoutTracking.median()[0],withTracking.median()[0])\n",
    "\n",
    "\n",
    "s = pd.Series(values, index=index)\n",
    "\n",
    "df = pd.DataFrame()\n",
    "pd.set_option('display.multi_sparse', False)\n",
    "\n",
    "\n",
    "s.unstack(1)\n",
    "df = s.unstack(1)\n",
    "df.plot(kind='bar', rot=0)\n",
    "plt.legend(loc='center left', bbox_to_anchor=(1.0, 0.5))\n",
    "plt.subplots_adjust(right=0.65)\n",
    "plt.ylabel(\"Latency in ms\")\n",
    "plt.suptitle(\"Runtime Overhead - Statistic Tracking\")"
   ]
  },
  {
   "cell_type": "code",
   "execution_count": null,
   "metadata": {
    "collapsed": true
   },
   "outputs": [],
   "source": []
  }
 ],
 "metadata": {
  "kernelspec": {
   "display_name": "Python 3",
   "language": "python",
   "name": "python3"
  },
  "language_info": {
   "codemirror_mode": {
    "name": "ipython",
    "version": 3
   },
   "file_extension": ".py",
   "mimetype": "text/x-python",
   "name": "python",
   "nbconvert_exporter": "python",
   "pygments_lexer": "ipython3",
   "version": "3.4.3"
  }
 },
 "nbformat": 4,
 "nbformat_minor": 0
}
