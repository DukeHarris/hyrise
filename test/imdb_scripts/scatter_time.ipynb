{
 "cells": [
  {
   "cell_type": "code",
   "execution_count": 60,
   "metadata": {
    "collapsed": true
   },
   "outputs": [],
   "source": [
    "import pandas as pd\n",
    "import matplotlib.pyplot as plt\n",
    "import matplotlib\n",
    "import numpy as np\n",
    "import os\n",
    "from collections import OrderedDict\n",
    "%matplotlib inline"
   ]
  },
  {
   "cell_type": "code",
   "execution_count": 2,
   "metadata": {
    "collapsed": true
   },
   "outputs": [],
   "source": [
    "folder = \"results/single\""
   ]
  },
  {
   "cell_type": "code",
   "execution_count": 140,
   "metadata": {
    "collapsed": false,
    "scrolled": true
   },
   "outputs": [
    {
     "data": {
      "text/plain": [
       "<matplotlib.figure.Figure at 0x7fb750375668>"
      ]
     },
     "metadata": {},
     "output_type": "display_data"
    }
   ],
   "source": [
    "df = pd.DataFrame()\n",
    "for filename in sorted(os.listdir(folder)):\n",
    "#     print(filename)\n",
    "    df = df.append(pd.read_csv(folder+ \"/\" +filename,header=False,names=[\"QueryLatency\"]))\n",
    "#     print(pd.read_csv(folder+ \"/\" +filename,header=False,names=[\"QueryLatency\"]).mean())\n",
    "\n",
    "\n",
    "df['t'] = range(0, len(df))\n",
    "ax = df.plot(kind='scatter', legend=False, rot=0, x='t', y='QueryLatency',s=2, color='grey')\n",
    "\n",
    "# print(df.iloc[0:1000][\"QueryLatency\"].mean())\n",
    "# print(df.iloc[1000:2000][\"QueryLatency\"].mean())\n",
    "# print(df.iloc[2000:3000][\"QueryLatency\"].mean())\n",
    "# print(df.iloc[3000:4000][\"QueryLatency\"].mean())\n",
    "\n",
    "ax.text(300,65, str(round(df.iloc[0:1000][\"QueryLatency\"].mean(),2)), color='black')\n",
    "ax.text(1300,65, str(round(df.iloc[1000:2000][\"QueryLatency\"].mean(),2)), color='black')\n",
    "ax.text(2300,65, str(round(df.iloc[2000:3000][\"QueryLatency\"].mean(),2)), color='black')\n",
    "ax.text(3300,65, str(round(df.iloc[3000:4000][\"QueryLatency\"].mean(),2)), color='black')\n",
    "\n",
    "plt.axvline(1000, color='red', lw=3, linestyle='--')\n",
    "plt.axvline(2000, color='grey', lw=3, linestyle='--')\n",
    "plt.axvline(3000, color='red', lw=3, linestyle='--')\n",
    "\n",
    "plt.plot([0, 1000], [df.iloc[0:1000][\"QueryLatency\"].mean(), df.iloc[0:1000][\"QueryLatency\"].mean()], 'black', lw=4)\n",
    "plt.plot([1000, 2000], [df.iloc[1000:2000][\"QueryLatency\"].mean(), df.iloc[1000:2000][\"QueryLatency\"].mean()], 'black', lw=4)\n",
    "plt.plot([2000, 3000], [df.iloc[2000:3000][\"QueryLatency\"].mean(), df.iloc[2000:3000][\"QueryLatency\"].mean()], 'black', lw=4)\n",
    "plt.plot([3000, 4000], [df.iloc[3000:4000][\"QueryLatency\"].mean(), df.iloc[3000:4000][\"QueryLatency\"].mean()], 'black', lw=4)\n",
    "\n",
    "\n",
    "\n",
    "ax.axis([0, 4000, 0, 70])\n",
    "\n",
    "plt.ylabel(\"Query Latency in ms\")\n",
    "plt.savefig(\"results/figures/single.pdf\")\n",
    "plt.clf()"
   ]
  },
  {
   "cell_type": "code",
   "execution_count": null,
   "metadata": {
    "collapsed": true
   },
   "outputs": [],
   "source": []
  }
 ],
 "metadata": {
  "kernelspec": {
   "display_name": "Python 3",
   "language": "python",
   "name": "python3"
  },
  "language_info": {
   "codemirror_mode": {
    "name": "ipython",
    "version": 3
   },
   "file_extension": ".py",
   "mimetype": "text/x-python",
   "name": "python",
   "nbconvert_exporter": "python",
   "pygments_lexer": "ipython3",
   "version": "3.4.3"
  }
 },
 "nbformat": 4,
 "nbformat_minor": 0
}
